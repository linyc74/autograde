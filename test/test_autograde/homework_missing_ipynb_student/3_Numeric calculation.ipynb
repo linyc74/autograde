{
 "cells": [
  {
   "cell_type": "markdown",
   "id": "35e57b9b",
   "metadata": {},
   "source": [
    "# Numeric calculation"
   ]
  },
  {
   "cell_type": "code",
   "execution_count": null,
   "id": "4f22ae6e",
   "metadata": {},
   "outputs": [],
   "source": [
    "a = 20\n",
    "b = 10"
   ]
  },
  {
   "cell_type": "code",
   "execution_count": null,
   "id": "7e08fdb5",
   "metadata": {},
   "outputs": [],
   "source": [
    "addition = a + b\n",
    "\n",
    "print(addition)"
   ]
  },
  {
   "cell_type": "code",
   "execution_count": null,
   "id": "aa1f6de4",
   "metadata": {},
   "outputs": [],
   "source": [
    "subtraction = a - b\n",
    "\n",
    "print(subtraction)"
   ]
  },
  {
   "cell_type": "code",
   "execution_count": null,
   "id": "a24b251d",
   "metadata": {},
   "outputs": [],
   "source": [
    "multiplication = a * b\n",
    "\n",
    "print(multiplication)"
   ]
  },
  {
   "cell_type": "code",
   "execution_count": null,
   "id": "bf3207d7",
   "metadata": {},
   "outputs": [],
   "source": [
    "division = a / b\n",
    "\n",
    "print(division)"
   ]
  },
  {
   "cell_type": "markdown",
   "id": "0e94cc99",
   "metadata": {},
   "source": [
    "**注意：** 除法的結果會自動變為 `float`"
   ]
  },
  {
   "cell_type": "code",
   "execution_count": null,
   "id": "f6c6e6ee",
   "metadata": {},
   "outputs": [],
   "source": [
    "a = 7\n",
    "b = 3\n",
    "\n",
    "division = a / b\n",
    "quotient = a // b  # 商數\n",
    "modulo = a % b  # 餘數\n",
    "\n",
    "print(division)\n",
    "print(quotient)\n",
    "print(modulo)"
   ]
  },
  {
   "cell_type": "markdown",
   "id": "cb975759",
   "metadata": {},
   "source": [
    "`abs()` 這個函數 (function) 可以回傳絕對值。"
   ]
  },
  {
   "cell_type": "code",
   "execution_count": null,
   "id": "0dd843e8",
   "metadata": {},
   "outputs": [],
   "source": [
    "a = abs(-1)\n",
    "print(a)\n",
    "\n",
    "b = abs(1)\n",
    "print(b)"
   ]
  },
  {
   "cell_type": "markdown",
   "id": "d81ce225",
   "metadata": {},
   "source": [
    "## Practice"
   ]
  },
  {
   "cell_type": "markdown",
   "id": "c440e3f0",
   "metadata": {},
   "source": [
    "請計算以下數值\n",
    "\n",
    "$$answer = {a^2 + 2ab + b^3 \\over 2}$$"
   ]
  },
  {
   "cell_type": "code",
   "execution_count": null,
   "id": "c24dec5e",
   "metadata": {},
   "outputs": [],
   "source": [
    "# ANSWER 1 (1 point)\n",
    "\n",
    "a = 1.23\n",
    "b = 3.21\n",
    "\n",
    "# --- 你的程式從此開始 ---\n",
    "\n",
    "answer = ? / 2\n",
    "\n",
    "# --- 你的程式在此結束 ---\n",
    "\n",
    "answer"
   ]
  },
  {
   "cell_type": "markdown",
   "id": "a08971d3",
   "metadata": {},
   "source": [
    "請將 `?` 取代為適當的運算符號，使 `answer = 2`"
   ]
  },
  {
   "cell_type": "code",
   "execution_count": null,
   "id": "7199232a",
   "metadata": {},
   "outputs": [],
   "source": [
    "# ANSWER 2 (1 point)\n",
    "\n",
    "a = 104\n",
    "b = 51\n",
    "\n",
    "# --- 你的程式從此開始 ---\n",
    "\n",
    "answer = a ? b\n",
    "\n",
    "# --- 你的程式在此結束 ---\n",
    "\n",
    "answer"
   ]
  }
 ],
 "metadata": {
  "kernelspec": {
   "display_name": "Python 3 (ipykernel)",
   "language": "python",
   "name": "python3"
  },
  "language_info": {
   "codemirror_mode": {
    "name": "ipython",
    "version": 3
   },
   "file_extension": ".py",
   "mimetype": "text/x-python",
   "name": "python",
   "nbconvert_exporter": "python",
   "pygments_lexer": "ipython3",
   "version": "3.9.7"
  }
 },
 "nbformat": 4,
 "nbformat_minor": 5
}
