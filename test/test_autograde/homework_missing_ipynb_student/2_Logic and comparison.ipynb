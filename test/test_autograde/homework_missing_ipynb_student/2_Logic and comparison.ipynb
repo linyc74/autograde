{
 "cells": [
  {
   "cell_type": "markdown",
   "id": "e3622708",
   "metadata": {},
   "source": [
    "# Logic and comparison"
   ]
  },
  {
   "cell_type": "markdown",
   "id": "dcdb59dc",
   "metadata": {},
   "source": [
    "### Compare numbers"
   ]
  },
  {
   "cell_type": "code",
   "execution_count": null,
   "id": "7b33e7c4",
   "metadata": {},
   "outputs": [],
   "source": [
    "a = (2 > 1)\n",
    "\n",
    "print(a)"
   ]
  },
  {
   "cell_type": "code",
   "execution_count": null,
   "id": "bedf9607",
   "metadata": {},
   "outputs": [],
   "source": [
    "b = 2 < 1\n",
    "\n",
    "print(b)"
   ]
  },
  {
   "cell_type": "code",
   "execution_count": null,
   "id": "296f6755",
   "metadata": {},
   "outputs": [],
   "source": [
    "print(1 == 1)  # 相等，注意不是一個等號 (=)而是兩個等號 (==) !!\n",
    "print(2 >= 1)  # 大於或等於\n",
    "print(2 >  1)  # 大於\n",
    "print(1 <= 2)  # 小於或等於\n",
    "print(1 <  2)  # 小於"
   ]
  },
  {
   "cell_type": "markdown",
   "id": "e2ef881e",
   "metadata": {},
   "source": [
    "### Compare strings"
   ]
  },
  {
   "cell_type": "code",
   "execution_count": null,
   "id": "7e96de45",
   "metadata": {},
   "outputs": [],
   "source": [
    "result = 'a' == 'a'\n",
    "print(result)"
   ]
  },
  {
   "cell_type": "code",
   "execution_count": null,
   "id": "ffa091e9",
   "metadata": {},
   "outputs": [],
   "source": [
    "result = 'a' == 'A'\n",
    "print(result)"
   ]
  },
  {
   "cell_type": "code",
   "execution_count": null,
   "id": "a68df40d",
   "metadata": {},
   "outputs": [],
   "source": [
    "result = 'a' in 'Today is a good day.'\n",
    "print(result)"
   ]
  },
  {
   "cell_type": "code",
   "execution_count": null,
   "id": "7d54252e",
   "metadata": {},
   "outputs": [],
   "source": [
    "result = 'od d' in 'Today is a good day.'\n",
    "print(result)"
   ]
  },
  {
   "cell_type": "markdown",
   "id": "218930fd",
   "metadata": {},
   "source": [
    "### Logic operators: `and`, `or`, `not`"
   ]
  },
  {
   "cell_type": "code",
   "execution_count": null,
   "id": "80fc992f",
   "metadata": {},
   "outputs": [],
   "source": [
    "a = True\n",
    "b = False"
   ]
  },
  {
   "cell_type": "code",
   "execution_count": null,
   "id": "50b3d207",
   "metadata": {},
   "outputs": [],
   "source": [
    "c = a and b\n",
    "\n",
    "print(c)"
   ]
  },
  {
   "cell_type": "code",
   "execution_count": null,
   "id": "6bea4c87",
   "metadata": {},
   "outputs": [],
   "source": [
    "c = a or b\n",
    "\n",
    "print(c)"
   ]
  },
  {
   "cell_type": "code",
   "execution_count": null,
   "id": "ff621a03",
   "metadata": {},
   "outputs": [],
   "source": [
    "c = not a\n",
    "\n",
    "print(c)"
   ]
  },
  {
   "cell_type": "code",
   "execution_count": null,
   "id": "9a8c7993",
   "metadata": {},
   "outputs": [],
   "source": [
    "true_or_false = (True and False) or (True or not True)\n",
    "\n",
    "print(true_or_false)"
   ]
  },
  {
   "cell_type": "markdown",
   "id": "6480c8a3",
   "metadata": {},
   "source": [
    "## Practice"
   ]
  },
  {
   "cell_type": "markdown",
   "id": "7cdbbfc8",
   "metadata": {},
   "source": [
    "請在 `?` 填入適當的數字，讓結果 `result` 為 `True`"
   ]
  },
  {
   "cell_type": "code",
   "execution_count": null,
   "id": "2258256b",
   "metadata": {},
   "outputs": [],
   "source": [
    "# ANSWER 1 (1 point)\n",
    "\n",
    "a = 100\n",
    "\n",
    "# --- 你的程式從此開始 ---\n",
    "\n",
    "b = a > ?  # 填入適當數字\n",
    "c = a == ?  # 填入適當數字\n",
    "\n",
    "# --- 你的程式在此結束 ---\n",
    "\n",
    "result = (b and c) or (True and False)\n",
    "\n",
    "result"
   ]
  }
 ],
 "metadata": {
  "kernelspec": {
   "display_name": "Python 3 (ipykernel)",
   "language": "python",
   "name": "python3"
  },
  "language_info": {
   "codemirror_mode": {
    "name": "ipython",
    "version": 3
   },
   "file_extension": ".py",
   "mimetype": "text/x-python",
   "name": "python",
   "nbconvert_exporter": "python",
   "pygments_lexer": "ipython3",
   "version": "3.9.7"
  }
 },
 "nbformat": 4,
 "nbformat_minor": 5
}
