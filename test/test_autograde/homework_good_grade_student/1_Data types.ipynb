{
 "cells": [
  {
   "cell_type": "markdown",
   "id": "35e57b9b",
   "metadata": {},
   "source": [
    "# Data types"
   ]
  },
  {
   "cell_type": "markdown",
   "id": "5b46a78c",
   "metadata": {},
   "source": [
    "### Integer"
   ]
  },
  {
   "cell_type": "code",
   "execution_count": null,
   "id": "4f22ae6e",
   "metadata": {},
   "outputs": [],
   "source": [
    "a = 1\n",
    "\n",
    "print(a)"
   ]
  },
  {
   "cell_type": "code",
   "execution_count": null,
   "id": "9df7e883",
   "metadata": {},
   "outputs": [],
   "source": [
    "a = 1\n",
    "b = 3\n",
    "c = a + b\n",
    "\n",
    "print(c)"
   ]
  },
  {
   "cell_type": "markdown",
   "id": "434cdf82",
   "metadata": {},
   "source": [
    "### Float"
   ]
  },
  {
   "cell_type": "code",
   "execution_count": null,
   "id": "2aa828c9",
   "metadata": {},
   "outputs": [],
   "source": [
    "a = 1.0\n",
    "b = 3.1\n",
    "c = a + b\n",
    "\n",
    "print(c)"
   ]
  },
  {
   "cell_type": "code",
   "execution_count": null,
   "id": "7e08fdb5",
   "metadata": {},
   "outputs": [],
   "source": [
    "a = 1\n",
    "b = 4\n",
    "c = a / b\n",
    "\n",
    "print(c)"
   ]
  },
  {
   "cell_type": "markdown",
   "id": "7f9ba6d9",
   "metadata": {},
   "source": [
    "### String"
   ]
  },
  {
   "cell_type": "code",
   "execution_count": null,
   "id": "126c7c3d",
   "metadata": {},
   "outputs": [],
   "source": [
    "s = 'Hello World'\n",
    "print(s)"
   ]
  },
  {
   "cell_type": "code",
   "execution_count": null,
   "id": "1208b922",
   "metadata": {},
   "outputs": [],
   "source": [
    "this_is_a_string = \"Hello World\"\n",
    "print(this_is_a_string)"
   ]
  },
  {
   "cell_type": "code",
   "execution_count": null,
   "id": "ceb1df8d",
   "metadata": {},
   "outputs": [],
   "source": [
    "a = \"Hello\"\n",
    "b = 'World'\n",
    "c = a + b\n",
    "\n",
    "print(c)"
   ]
  },
  {
   "cell_type": "markdown",
   "id": "e3622708",
   "metadata": {},
   "source": [
    "### Boolean"
   ]
  },
  {
   "cell_type": "code",
   "execution_count": null,
   "id": "322b3f85",
   "metadata": {},
   "outputs": [],
   "source": [
    "a = True\n",
    "b = False\n",
    "\n",
    "print(a, b)"
   ]
  },
  {
   "cell_type": "markdown",
   "id": "369092ef",
   "metadata": {},
   "source": [
    "### NoneType"
   ]
  },
  {
   "cell_type": "code",
   "execution_count": null,
   "id": "ca53c78f",
   "metadata": {},
   "outputs": [],
   "source": [
    "a = None\n",
    "\n",
    "print(a)"
   ]
  },
  {
   "cell_type": "markdown",
   "id": "fef51e15",
   "metadata": {},
   "source": [
    "### Comment\n",
    "\n",
    "井字號 `#` (pond sign) 之後的任何文字都不會被視為程式碼，稱為「註解」(comment)"
   ]
  },
  {
   "cell_type": "code",
   "execution_count": null,
   "id": "6c76af26",
   "metadata": {},
   "outputs": [],
   "source": [
    "# 這是註解不會被執行\n",
    "print('Hello World')  # 井字號之後的都是註解"
   ]
  },
  {
   "cell_type": "markdown",
   "id": "3b7f33d0",
   "metadata": {},
   "source": [
    "## Practice"
   ]
  },
  {
   "cell_type": "markdown",
   "id": "7e3a3280",
   "metadata": {},
   "source": [
    "請 print 出以下這個結果：`123456789`"
   ]
  },
  {
   "cell_type": "code",
   "execution_count": null,
   "id": "ea0634e3",
   "metadata": {},
   "outputs": [],
   "source": [
    "# ANSWER 1 (1 point)\n",
    "\n",
    "a = '1'\n",
    "b = '2'\n",
    "c = '3'\n",
    "d = '4'\n",
    "e = '5'\n",
    "f = '6'\n",
    "g = '7'\n",
    "h = '8'\n",
    "i = '9'\n",
    "\n",
    "# --- 你的程式從此開始 ---\n",
    "\n",
    "answer = a + b + c + d + e + f + g + h + i\n",
    "\n",
    "# --- 你的程式在此結束 ---\n",
    "\n",
    "print(answer)"
   ]
  },
  {
   "cell_type": "markdown",
   "id": "82a8a7e7",
   "metadata": {},
   "source": [
    "請 print 出以下這個結果：`123456789`，但這次要使用 `integer`\n",
    "\n",
    "*提示：這次是數字運算*"
   ]
  },
  {
   "cell_type": "code",
   "execution_count": null,
   "id": "909dce98",
   "metadata": {},
   "outputs": [],
   "source": [
    "# ANSWER 2 (1 point)\n",
    "\n",
    "a = 1\n",
    "b = 2\n",
    "c = 3\n",
    "d = 4\n",
    "e = 5\n",
    "f = 6\n",
    "g = 7\n",
    "h = 8\n",
    "i = 9\n",
    "\n",
    "# --- 你的程式從此開始 ---\n",
    "\n",
    "answer = a * 100000000 + b * 10000000 + c * 1000000 + d * 100000 + e * 10000 + f * 1000 + g * 100 + h * 10 + i\n",
    "\n",
    "# --- 你的程式在此結束 ---\n",
    "\n",
    "print(answer)"
   ]
  }
 ],
 "metadata": {
  "kernelspec": {
   "display_name": "Python 3 (ipykernel)",
   "language": "python",
   "name": "python3"
  },
  "language_info": {
   "codemirror_mode": {
    "name": "ipython",
    "version": 3
   },
   "file_extension": ".py",
   "mimetype": "text/x-python",
   "name": "python",
   "nbconvert_exporter": "python",
   "pygments_lexer": "ipython3",
   "version": "3.9.7"
  }
 },
 "nbformat": 4,
 "nbformat_minor": 5
}
