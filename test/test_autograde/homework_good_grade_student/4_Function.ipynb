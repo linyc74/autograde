{
 "cells": [
  {
   "cell_type": "markdown",
   "id": "35e57b9b",
   "metadata": {},
   "source": [
    "# Function"
   ]
  },
  {
   "cell_type": "markdown",
   "id": "5b46a78c",
   "metadata": {},
   "source": [
    "### 函數長什麼樣\n",
    "\n",
    "函數的概念：\n",
    "\n",
    "```\n",
    "input --> [function] --> output\n",
    "```\n",
    "\n",
    "基本樣式：\n",
    "\n",
    "```\n",
    "output = function(input)\n",
    "\n",
    "輸出 = 函數(輸入)\n",
    "```"
   ]
  },
  {
   "cell_type": "code",
   "execution_count": null,
   "id": "4f22ae6e",
   "metadata": {},
   "outputs": [],
   "source": [
    "print('Hello World')"
   ]
  },
  {
   "cell_type": "code",
   "execution_count": null,
   "id": "22c2324f",
   "metadata": {},
   "outputs": [],
   "source": [
    "output = print('Hello World')\n",
    "\n",
    "print(output)"
   ]
  },
  {
   "cell_type": "code",
   "execution_count": null,
   "id": "90f430d4",
   "metadata": {},
   "outputs": [],
   "source": [
    "# 絕對值\n",
    "abs(-100)"
   ]
  },
  {
   "cell_type": "code",
   "execution_count": null,
   "id": "91cdc2b6",
   "metadata": {},
   "outputs": [],
   "source": [
    "from math import pi\n",
    "\n",
    "print(pi)"
   ]
  },
  {
   "cell_type": "code",
   "execution_count": null,
   "id": "9159cb20",
   "metadata": {},
   "outputs": [],
   "source": [
    "from math import pi, sin\n",
    "\n",
    "sin(pi/2)"
   ]
  },
  {
   "cell_type": "code",
   "execution_count": null,
   "id": "f09d91f9",
   "metadata": {},
   "outputs": [],
   "source": [
    "from math import sin, cos, tan\n",
    "\n",
    "radian = 1  # 弧度\n",
    "\n",
    "a = sin(radian) / cos(radian)\n",
    "b = tan(radian)\n",
    "\n",
    "print(a, b)"
   ]
  },
  {
   "cell_type": "markdown",
   "id": "3b7f33d0",
   "metadata": {},
   "source": [
    "## Practice"
   ]
  },
  {
   "cell_type": "markdown",
   "id": "7e3a3280",
   "metadata": {},
   "source": [
    "請計算 `y` 值\n",
    "\n",
    "$$ y = {1 \\over [exp(x) + sin(x)] \\times cos(x)} $$\n",
    "\n",
    "*提示：注意括號的位置是否正確*"
   ]
  },
  {
   "cell_type": "code",
   "execution_count": null,
   "id": "ea0634e3",
   "metadata": {},
   "outputs": [],
   "source": [
    "# ANSWER 1 (1 point)\n",
    "\n",
    "from math import exp, sin, cos\n",
    "\n",
    "x = 1\n",
    "\n",
    "# --- 你的程式從此開始 ---\n",
    "\n",
    "y = 1 / ((exp(x) + sin(x)) * cos(x))\n",
    "\n",
    "# --- 你的程式在此結束 ---\n",
    "\n",
    "print(f'{y:.10f}')  # 四捨五入，小數點第 10 位"
   ]
  },
  {
   "cell_type": "markdown",
   "id": "a51c8fa4",
   "metadata": {},
   "source": [
    "一元二次方程式 $ax^2 + bx + c = 0$ 的其中一個解為\n",
    "\n",
    "$$ x = {-b + \\sqrt{b^2-4ac} \\over 2a} $$\n",
    "\n",
    "請用 Python 計算，平方根的函數為 `sqrt()`"
   ]
  },
  {
   "cell_type": "code",
   "execution_count": null,
   "id": "704d33f4",
   "metadata": {},
   "outputs": [],
   "source": [
    "# ANSWER 2 (1 point)\n",
    "\n",
    "from math import sqrt\n",
    "\n",
    "a = 1\n",
    "b = 4\n",
    "c = 2\n",
    "\n",
    "# --- 你的程式從此開始 ---\n",
    "\n",
    "p = - b + sqrt(b*b - 4*a*c)\n",
    "q = 2 * a\n",
    "x = p / q\n",
    "\n",
    "# --- 你的程式在此結束 ---\n",
    "\n",
    "print(f'{x:.10f}')  # 四捨五入，小數點第 10 位"
   ]
  }
 ],
 "metadata": {
  "kernelspec": {
   "display_name": "Python 3 (ipykernel)",
   "language": "python",
   "name": "python3"
  },
  "language_info": {
   "codemirror_mode": {
    "name": "ipython",
    "version": 3
   },
   "file_extension": ".py",
   "mimetype": "text/x-python",
   "name": "python",
   "nbconvert_exporter": "python",
   "pygments_lexer": "ipython3",
   "version": "3.9.7"
  }
 },
 "nbformat": 4,
 "nbformat_minor": 5
}
