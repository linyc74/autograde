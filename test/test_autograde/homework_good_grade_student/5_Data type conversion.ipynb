{
 "cells": [
  {
   "cell_type": "markdown",
   "id": "35e57b9b",
   "metadata": {},
   "source": [
    "# Data type conversion"
   ]
  },
  {
   "cell_type": "markdown",
   "id": "5b46a78c",
   "metadata": {},
   "source": [
    "`type()` 是一個函數，可以回報資料型態"
   ]
  },
  {
   "cell_type": "code",
   "execution_count": null,
   "id": "4f22ae6e",
   "metadata": {},
   "outputs": [],
   "source": [
    "a = 1\n",
    "type(a)"
   ]
  },
  {
   "cell_type": "code",
   "execution_count": null,
   "id": "b0e66907",
   "metadata": {},
   "outputs": [],
   "source": [
    "a = '1'\n",
    "print(type(a))"
   ]
  },
  {
   "cell_type": "code",
   "execution_count": null,
   "id": "fa2fe486",
   "metadata": {},
   "outputs": [],
   "source": [
    "a = 1.\n",
    "print(type(a))"
   ]
  },
  {
   "cell_type": "code",
   "execution_count": null,
   "id": "14e73cc7",
   "metadata": {},
   "outputs": [],
   "source": [
    "a = True\n",
    "print(type(a))"
   ]
  },
  {
   "cell_type": "code",
   "execution_count": null,
   "id": "d6186d22",
   "metadata": {},
   "outputs": [],
   "source": [
    "a = None\n",
    "print(type(a))"
   ]
  },
  {
   "cell_type": "markdown",
   "id": "434cdf82",
   "metadata": {},
   "source": [
    "###  轉換資料型態\n",
    "\n",
    "- 整數 integer: `int()`\n",
    "- 小數浮點 Float: `float()`\n",
    "- 字串 String: `str()`\n",
    "- 布林 Boolean: `bool()`"
   ]
  },
  {
   "cell_type": "code",
   "execution_count": null,
   "id": "2fb5245c",
   "metadata": {},
   "outputs": [],
   "source": [
    "a = int(1.0)\n",
    "\n",
    "print(a)"
   ]
  },
  {
   "cell_type": "code",
   "execution_count": null,
   "id": "6278f711",
   "metadata": {},
   "outputs": [],
   "source": [
    "a = float(1)\n",
    "\n",
    "print(a)"
   ]
  },
  {
   "cell_type": "code",
   "execution_count": null,
   "id": "e3ebaa08",
   "metadata": {},
   "outputs": [],
   "source": [
    "# 不同的資料型態 + 再一起會出現錯誤\n",
    "\n",
    "a = 9\n",
    "b = '月開學'\n",
    "\n",
    "print(a + b)"
   ]
  },
  {
   "cell_type": "code",
   "execution_count": null,
   "id": "6dd7645c",
   "metadata": {},
   "outputs": [],
   "source": [
    "a = 9\n",
    "b = '月開學'\n",
    "\n",
    "print(str(a) + b)"
   ]
  },
  {
   "cell_type": "code",
   "execution_count": null,
   "id": "84fc9132",
   "metadata": {},
   "outputs": [],
   "source": [
    "print(bool(0))"
   ]
  },
  {
   "cell_type": "code",
   "execution_count": null,
   "id": "99540121",
   "metadata": {},
   "outputs": [],
   "source": [
    "print(bool(1))"
   ]
  },
  {
   "cell_type": "code",
   "execution_count": null,
   "id": "ca748127",
   "metadata": {},
   "outputs": [],
   "source": [
    "print(bool(''))"
   ]
  },
  {
   "cell_type": "code",
   "execution_count": null,
   "id": "a2e00ad4",
   "metadata": {},
   "outputs": [],
   "source": [
    "print(bool('any non-empty string'))"
   ]
  },
  {
   "cell_type": "markdown",
   "id": "3b7f33d0",
   "metadata": {},
   "source": [
    "## Practice"
   ]
  },
  {
   "cell_type": "markdown",
   "id": "7e3a3280",
   "metadata": {},
   "source": [
    "請在問號 `?` 處使用適當的函數，轉換資料型態，讓 `answer` 為字串 `'Yang-Ming Dent117'`"
   ]
  },
  {
   "cell_type": "code",
   "execution_count": null,
   "id": "ea0634e3",
   "metadata": {},
   "outputs": [],
   "source": [
    "# ANSWER 1 (1 point)\n",
    "\n",
    "# --- 你的程式從此開始 ---\n",
    "\n",
    "ym = 'Yang-Ming'\n",
    "\n",
    "space = ' '\n",
    "\n",
    "dent = 'Dent'\n",
    "\n",
    "a = int(11.0)\n",
    "\n",
    "b = str(a)\n",
    "\n",
    "c = str(7)\n",
    "\n",
    "# --- 你的程式在此結束 ---\n",
    "\n",
    "answer = ym + space + dent + b + c\n",
    "\n",
    "answer"
   ]
  }
 ],
 "metadata": {
  "kernelspec": {
   "display_name": "Python 3 (ipykernel)",
   "language": "python",
   "name": "python3"
  },
  "language_info": {
   "codemirror_mode": {
    "name": "ipython",
    "version": 3
   },
   "file_extension": ".py",
   "mimetype": "text/x-python",
   "name": "python",
   "nbconvert_exporter": "python",
   "pygments_lexer": "ipython3",
   "version": "3.9.7"
  }
 },
 "nbformat": 4,
 "nbformat_minor": 5
}
