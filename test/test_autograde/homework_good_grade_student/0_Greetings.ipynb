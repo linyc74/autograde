{
 "cells": [
  {
   "cell_type": "markdown",
   "id": "35e57b9b",
   "metadata": {},
   "source": [
    "# Greetings"
   ]
  },
  {
   "cell_type": "code",
   "execution_count": null,
   "id": "4f22ae6e",
   "metadata": {},
   "outputs": [],
   "source": [
    "print('Hello World')"
   ]
  },
  {
   "cell_type": "markdown",
   "id": "3b7f33d0",
   "metadata": {},
   "source": [
    "## Practice"
   ]
  },
  {
   "cell_type": "markdown",
   "id": "7e3a3280",
   "metadata": {},
   "source": [
    "只要看到 `# ANSWER ...` 就是習題。\n",
    "\n",
    "因為老師用程式自動化改作業，所以你只能在限定的範圍內撰寫程式碼，其餘的部分不可以更動。\n",
    "\n",
    "例如，請輸入 `'Hello World'` 這個字串："
   ]
  },
  {
   "cell_type": "code",
   "execution_count": null,
   "id": "ea0634e3",
   "metadata": {},
   "outputs": [],
   "source": [
    "# ANSWER 1 (1 point)\n",
    "\n",
    "# --- 你的程式從此開始 ---\n",
    "\n",
    "answer = 'Hello World'\n",
    "\n",
    "# --- 你的程式在此結束 ---\n",
    "\n",
    "print(answer)"
   ]
  }
 ],
 "metadata": {
  "kernelspec": {
   "display_name": "Python 3 (ipykernel)",
   "language": "python",
   "name": "python3"
  },
  "language_info": {
   "codemirror_mode": {
    "name": "ipython",
    "version": 3
   },
   "file_extension": ".py",
   "mimetype": "text/x-python",
   "name": "python",
   "nbconvert_exporter": "python",
   "pygments_lexer": "ipython3",
   "version": "3.9.7"
  }
 },
 "nbformat": 4,
 "nbformat_minor": 5
}
