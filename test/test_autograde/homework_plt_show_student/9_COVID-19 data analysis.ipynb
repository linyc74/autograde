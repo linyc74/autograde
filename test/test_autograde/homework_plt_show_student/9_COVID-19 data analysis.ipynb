{
 "cells": [
  {
   "cell_type": "markdown",
   "id": "5116ecca",
   "metadata": {},
   "source": [
    "# COVID-19 Data Analysis\n",
    "\n",
    "假設今天你任職於一個國外的非政府組織，從事資料分析的工作。你的工作就是：即時為部門主管提供最新的新冠疫情圖表，作為高層開會決策時的依據。\n",
    "\n",
    "其中一個有用的資料來源是：[Coronavirus Source Data](https://ourworldindata.org/coronavirus-source-data) ([下載頁面](https://github.com/owid/covid-19-data/tree/master/public/data))。請使用`owid-covid-data-2021-10-10.csv`這個檔案 (下載於2021/10/10 ，剛好是中華民國國慶)\n",
    "\n",
    "以下步驟，將會引導你做出全世界每個國家每百萬人的新增個案圖。"
   ]
  },
  {
   "cell_type": "markdown",
   "id": "2eca9c2e",
   "metadata": {},
   "source": [
    "首先是讀取資料"
   ]
  },
  {
   "cell_type": "code",
   "execution_count": null,
   "id": "2c255aa6",
   "metadata": {},
   "outputs": [],
   "source": [
    "import pandas as pd\n",
    "df = pd.read_csv('owid-covid-data-2021-10-10.csv')\n",
    "df"
   ]
  },
  {
   "cell_type": "markdown",
   "id": "b0c3ebfb",
   "metadata": {},
   "source": [
    "你可以看到總共有65個欄位 (columns)"
   ]
  },
  {
   "cell_type": "code",
   "execution_count": null,
   "id": "ecfa5c21",
   "metadata": {},
   "outputs": [],
   "source": [
    "i = 0\n",
    "for column in df.columns:\n",
    "    i += 1\n",
    "    print(i, column)"
   ]
  },
  {
   "cell_type": "markdown",
   "id": "8a86902d",
   "metadata": {},
   "source": [
    "其中以下三個 columns 是我們接下來會用到的資訊：\n",
    "- `location`: 地理位置，也就是國家\n",
    "- `date`: 日期\n",
    "- `new_cases_smoothed_per_million`: 每日新增個案，為七日平均之平滑數字"
   ]
  },
  {
   "cell_type": "markdown",
   "id": "5f3584cc",
   "metadata": {},
   "source": [
    "### Question 1\n",
    "主管首先要你提供全世界防疫成功的國家案例，你首先想到的就是故鄉台灣，因此你要先篩選 (filter) 出台灣的資料表格。\n",
    "\n",
    "你思考了一下，知道第一步是要創造出一個 boolean (True/False) 的 Pandas Series。True 代表是台灣的 row，False 代表是其他國家。請問要怎麼做？"
   ]
  },
  {
   "cell_type": "code",
   "execution_count": null,
   "id": "6b490f6f",
   "metadata": {},
   "outputs": [],
   "source": [
    "# ANSWER 1 (1 point)\n",
    "\n",
    "# --- 你的程式從此開始 ---\n",
    "\n",
    "is_taiwan = df['location'] == 'Taiwan'\n",
    "\n",
    "# --- 你的程式在此結束 ---\n",
    "\n",
    "is_taiwan"
   ]
  },
  {
   "cell_type": "markdown",
   "id": "cab48316",
   "metadata": {},
   "source": [
    "你可以看到台灣總共有 633 個資料點。在電腦裡 True = 1, False = 0，所以加總起來就是所有 True 的數量。"
   ]
  },
  {
   "cell_type": "code",
   "execution_count": null,
   "id": "a753b276",
   "metadata": {},
   "outputs": [],
   "source": [
    "is_taiwan.sum()"
   ]
  },
  {
   "cell_type": "markdown",
   "id": "871b30d1",
   "metadata": {},
   "source": [
    "### Question 2\n",
    "有了 `is_taiwan` 這個 boolean series 之後，你就可以把所有台灣的資料篩出來。請問要怎麼做？"
   ]
  },
  {
   "cell_type": "code",
   "execution_count": null,
   "id": "780d1652",
   "metadata": {},
   "outputs": [],
   "source": [
    "# ANSWER 2 (1 point)\n",
    "\n",
    "# --- 你的程式從此開始 ---\n",
    "\n",
    "taiwan_df = df.loc[is_taiwan]\n",
    "\n",
    "# --- 你的程式在此結束 ---\n",
    "\n",
    "taiwan_df.reset_index(inplace=True, drop=True)\n",
    "taiwan_df"
   ]
  },
  {
   "cell_type": "markdown",
   "id": "1ec3d5ab",
   "metadata": {},
   "source": [
    "你可以看到總共有 65 個欄位，而大部分的欄位資料都是空缺的 (`NaN`)。\n",
    "\n",
    "事實上，**每日新增個案數**是疫情直接的指標。但每個國家的人口數不同，因此我們會以「每百萬人」為衡量單位。此外，有許多人為因素 (例如週末休假) 會導致資料蒐集的波動，因此我們會計算「七日平均之平滑線」。\n",
    "\n",
    "這就是我們要專注分析的量化指標：`new_cases_smoothed_per_million`"
   ]
  },
  {
   "cell_type": "markdown",
   "id": "8c6eedb2",
   "metadata": {},
   "source": [
    "### Question 3\n",
    "請取出台灣所有 `new_cases_smoothed_per_million` 的資料。結果會是一個 `Series`。"
   ]
  },
  {
   "cell_type": "code",
   "execution_count": null,
   "id": "51146b9c",
   "metadata": {},
   "outputs": [],
   "source": [
    "# ANSWER 3 (1 point)\n",
    "\n",
    "# --- 你的程式從此開始 ---\n",
    "\n",
    "taiwan_new_cases = taiwan_df['new_cases_smoothed_per_million']\n",
    "\n",
    "# --- 你的程式在此結束 ---\n",
    "\n",
    "taiwan_new_cases"
   ]
  },
  {
   "cell_type": "markdown",
   "id": "7513e7f2",
   "metadata": {},
   "source": [
    "### Question 4\n",
    "你注意到一開始的那幾天，是沒有資料的 (`NaN`)，因此你想看看總共有幾個可用、不是空白的資料點。\n",
    "\n",
    "你的結果 `number_of_valid_data` 會是一個整數 (integer)。\n",
    "\n",
    "提示：你可以使用`dropna()`或是`notna()`"
   ]
  },
  {
   "cell_type": "code",
   "execution_count": null,
   "id": "435d9ee5",
   "metadata": {},
   "outputs": [],
   "source": [
    "# ANSWER 4 (1 point)\n",
    "\n",
    "# --- 你的程式從此開始 ---\n",
    "\n",
    "number_of_valid_data = len(taiwan_new_cases.notna())\n",
    "\n",
    "# --- 你的程式在此結束 ---\n",
    "\n",
    "number_of_valid_data"
   ]
  },
  {
   "cell_type": "markdown",
   "id": "ac1de6e9",
   "metadata": {},
   "source": [
    "### Question 5\n",
    "因為你是要觀察每日新增個案，因此需要取出時間的資料，也就是 `date` 欄位。"
   ]
  },
  {
   "cell_type": "code",
   "execution_count": null,
   "id": "bc14a140",
   "metadata": {},
   "outputs": [],
   "source": [
    "# ANSWER 5 (1 point)\n",
    "\n",
    "# --- 你的程式從此開始 ---\n",
    "\n",
    "taiwan_dates = taiwan_df['date']\n",
    "\n",
    "# --- 你的程式在此結束 ---\n",
    "\n",
    "taiwan_dates"
   ]
  },
  {
   "cell_type": "markdown",
   "id": "fcf16e1a",
   "metadata": {},
   "source": [
    "### Question 6\n",
    "台灣最高的每日新增個案數是多少？請注意我們使用的數據是**每百萬人**的新增個案，因此你需要依照台灣人口數換算成實際新增個案數。\n",
    "\n",
    "提示：`.max()`"
   ]
  },
  {
   "cell_type": "code",
   "execution_count": null,
   "id": "c9de7b46",
   "metadata": {},
   "outputs": [],
   "source": [
    "# ANSWER 6 (2 point)\n",
    "\n",
    "taiwan_population = 23570000  # 兩千三百萬人\n",
    "\n",
    "# --- 你的程式從此開始 ---\n",
    "\n",
    "max_cases_per_million = taiwan_new_cases.max()\n",
    "\n",
    "max_cases = int(max_cases_per_million * taiwan_population / 1000000)\n",
    "\n",
    "# --- 你的程式在此結束 ---\n",
    "\n",
    "max_cases"
   ]
  },
  {
   "cell_type": "markdown",
   "id": "baf01186",
   "metadata": {},
   "source": [
    "回想當時情勢嚴峻，這個數字應該跟你記憶中的數字應該很接近吧？"
   ]
  },
  {
   "cell_type": "markdown",
   "id": "2b7369cf",
   "metadata": {},
   "source": [
    "### Question 7\n",
    "請問台灣的最高個案數，是何年何月何日發生的？你的結果會是一個字串，看起來像 `'2020-xx-xx'`\n",
    "\n",
    "提示：`day_of_max_cases` 是一個 `Series` (只有一個日期), 而 `iloc[0]` 是為了要取出那個日期 "
   ]
  },
  {
   "cell_type": "code",
   "execution_count": null,
   "id": "5c287987",
   "metadata": {},
   "outputs": [],
   "source": [
    "# ANSWER 7 (1.5 point)\n",
    "\n",
    "# --- 你的程式從此開始 ---\n",
    "\n",
    "is_max = taiwan_new_cases == taiwan_new_cases.max()\n",
    "\n",
    "day_of_max_cases = taiwan_dates[is_max]\n",
    "\n",
    "# --- 你的程式在此結束 ---\n",
    "\n",
    "day_of_max_cases.iloc[0]"
   ]
  },
  {
   "cell_type": "markdown",
   "id": "75feedf0",
   "metadata": {},
   "source": [
    "你還記得那天嗎？"
   ]
  },
  {
   "cell_type": "markdown",
   "id": "b71921e5",
   "metadata": {},
   "source": [
    "資料分析到這步，你發現你已經能作圖呈現給主管，讓他 (她) 看看台灣這個防疫成功的案例。\n",
    "\n",
    "以下的程式定義了一個函數 `plot()`，供你做出日期折線圖。\n",
    "\n",
    "這個函數有三個 parameters：\n",
    "- `label`: 標記 (`str`)\n",
    "- `x_dates`: Χ 軸日期 (`pd.Series`)\n",
    "- `y_values`: Y 軸數值 (`pd.Series`)"
   ]
  },
  {
   "cell_type": "code",
   "execution_count": null,
   "id": "24d515dd",
   "metadata": {},
   "outputs": [],
   "source": [
    "import matplotlib.pyplot as plt\n",
    "import matplotlib.dates as mdates\n",
    "import datetime\n",
    "%matplotlib inline\n",
    "plt.rcParams['figure.figsize'] = [10, 7.5]\n",
    "\n",
    "def plot(label, x_dates, y_values):\n",
    "    \n",
    "    global plt  # for exec() to access 'plt' as global variable\n",
    "    global mdates\n",
    "    global datetime\n",
    "    \n",
    "    # 設定圖表格式\n",
    "    ax = plt.gca()\n",
    "    formatter = mdates.DateFormatter(\"%Y-%m-%d\")\n",
    "    ax.xaxis.set_major_formatter(formatter)\n",
    "    locator = mdates.MonthLocator()\n",
    "    ax.xaxis.set_major_locator(locator)\n",
    "    plt.xticks(rotation=90)\n",
    "\n",
    "    # 設定 X 軸日期格式\n",
    "    x_dates = [datetime.datetime.strptime(d, \"%Y-%m-%d\").date() for d in x_dates]\n",
    "\n",
    "    # 作圖\n",
    "    plt.plot(x_dates, y_values, label=label)\n",
    "    ax.legend(loc=\"upper left\")\n",
    "    \n",
    "    return True"
   ]
  },
  {
   "cell_type": "markdown",
   "id": "84133d34",
   "metadata": {},
   "source": [
    "### Question 8\n",
    "要做出日期折線圖，你的 X 軸是 `taiwan_dates`，Y 軸是 `taiwan_new_cases`"
   ]
  },
  {
   "cell_type": "code",
   "execution_count": null,
   "id": "27c118a1",
   "metadata": {},
   "outputs": [],
   "source": [
    "# ANSWER 8 (1.5 point)\n",
    "\n",
    "# --- 你的程式從此開始 ---\n",
    "\n",
    "success = plot(\n",
    "    label='Taiwan',\n",
    "    x_dates=taiwan_dates,\n",
    "    y_values=taiwan_new_cases,\n",
    ")\n",
    "\n",
    "plt.show()\n",
    "\n",
    "# --- 你的程式在此結束 ---\n",
    "\n",
    "success"
   ]
  },
  {
   "cell_type": "markdown",
   "id": "7182b834",
   "metadata": {},
   "source": [
    "結果麻煩的事來了！你的主管超沒概念！He/She had no sense!\n",
    "\n",
    "他 (她) 說台灣五月底那個 peak (峰值) 看起來很嚴重，其實也不能當作成功案例吧？"
   ]
  },
  {
   "cell_type": "markdown",
   "id": "617533c7",
   "metadata": {},
   "source": [
    "你的主管沒有注意到的是，Y 軸的最高值不過是每百萬人 25 人左右。\n",
    "\n",
    "於是，你決定把其他國家的數據也加進來，徹底說服你的主管 (你可以自由地加進你想要看的國家)。"
   ]
  },
  {
   "cell_type": "code",
   "execution_count": null,
   "id": "cd9f0210",
   "metadata": {},
   "outputs": [],
   "source": [
    "labels = [\n",
    "    'United States', \n",
    "    'United Kingdom',\n",
    "    'Germany',\n",
    "    'Iceland',\n",
    "    'Japan',\n",
    "    'Korea',\n",
    "    'Vietnam',\n",
    "    'Taiwan',\n",
    "]\n",
    "\n",
    "for label in labels:\n",
    "    is_location = df['location'] == label\n",
    "    columns = ['date', 'new_cases_smoothed_per_million']\n",
    "\n",
    "    location_df = df.loc[is_location, columns]\n",
    "    \n",
    "    plot(\n",
    "        label=label,\n",
    "        x_dates=location_df['date'],\n",
    "        y_values=location_df['new_cases_smoothed_per_million'],\n",
    "    )\n",
    "\n",
    "plt.show()"
   ]
  },
  {
   "cell_type": "markdown",
   "id": "21eeb34d",
   "metadata": {},
   "source": [
    "你看到台灣的曲線了嗎？"
   ]
  }
 ],
 "metadata": {
  "kernelspec": {
   "display_name": "Python 3 (ipykernel)",
   "language": "python",
   "name": "python3"
  },
  "language_info": {
   "codemirror_mode": {
    "name": "ipython",
    "version": 3
   },
   "file_extension": ".py",
   "mimetype": "text/x-python",
   "name": "python",
   "nbconvert_exporter": "python",
   "pygments_lexer": "ipython3",
   "version": "3.11.5"
  }
 },
 "nbformat": 4,
 "nbformat_minor": 5
}
